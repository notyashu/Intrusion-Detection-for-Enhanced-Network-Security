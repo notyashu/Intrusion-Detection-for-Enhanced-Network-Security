{
  "cells": [
    {
      "cell_type": "code",
      "source": [
        "## This program generates CSV files containing only one type of attack along with benign traffic.\n",
        "##\n",
        "## Each file includes all attack instances and a randomly selected portion of benign traffic.\n",
        "## The distribution ratio is set as follows:\n",
        "## - Attack: 30%\n",
        "## - Benign: 70%"
      ],
      "metadata": {
        "id": "1WgL_6b2pVav"
      },
      "execution_count": 1,
      "outputs": []
    },
    {
      "cell_type": "code",
      "source": [
        "from google.colab import drive\n",
        "drive.mount('/content/drive')"
      ],
      "metadata": {
        "colab": {
          "base_uri": "https://localhost:8080/"
        },
        "id": "DUp3fqLGQj3_",
        "outputId": "a41a8a62-63b3-4080-c76b-f21a49fe53e3"
      },
      "execution_count": 2,
      "outputs": [
        {
          "output_type": "stream",
          "name": "stdout",
          "text": [
            "Mounted at /content/drive\n"
          ]
        }
      ]
    },
    {
      "cell_type": "code",
      "source": [
        "import random\n",
        "import os\n",
        "import pandas as pd\n",
        "import time\n",
        "seconds = time.time()\n",
        "%matplotlib inline"
      ],
      "metadata": {
        "id": "gZ7gE-CgpryE"
      },
      "execution_count": 3,
      "outputs": []
    },
    {
      "cell_type": "code",
      "source": [
        "base_path = \"/content/drive/MyDrive/Intrusion Detection System/\""
      ],
      "metadata": {
        "id": "tzUJSfQRQxbY"
      },
      "execution_count": 4,
      "outputs": []
    },
    {
      "cell_type": "code",
      "source": [
        "#this function creates a folder in the appropriate directory.\n",
        "def folder(f_name):\n",
        "    folder_path = os.path.join(base_path, f_name)  # Create full path\n",
        "\n",
        "    try:\n",
        "        if not os.path.exists(folder_path):\n",
        "            os.makedirs(folder_path)\n",
        "            print(f\"Folder created: {folder_path}\")\n",
        "        else:\n",
        "            print(f\"Folder already exists: {folder_path}\")\n",
        "    except OSError:\n",
        "        print(\"The folder could not be created!\")"
      ],
      "metadata": {
        "id": "xYQc0kd0pyzl"
      },
      "execution_count": 5,
      "outputs": []
    },
    {
      "cell_type": "code",
      "execution_count": 6,
      "metadata": {
        "id": "F-udtachPjxv"
      },
      "outputs": [],
      "source": [
        "# Headers of column\n",
        "main_labels=[\"Flow ID\",\"Source IP\",\"Source Port\",\"Destination IP\",\"Destination Port\",\"Protocol\",\"Timestamp\",\"Flow Duration\",\"Total Fwd Packets\",\n",
        "   \"Total Backward Packets\",\"Total Length of Fwd Packets\",\"Total Length of Bwd Packets\",\"Fwd Packet Length Max\",\"Fwd Packet Length Min\",\n",
        "   \"Fwd Packet Length Mean\",\"Fwd Packet Length Std\",\"Bwd Packet Length Max\",\"Bwd Packet Length Min\",\"Bwd Packet Length Mean\",\"Bwd Packet Length Std\",\n",
        "   \"Flow Bytes/s\",\"Flow Packets/s\",\"Flow IAT Mean\",\"Flow IAT Std\",\"Flow IAT Max\",\"Flow IAT Min\",\"Fwd IAT Total\",\"Fwd IAT Mean\",\"Fwd IAT Std\",\"Fwd IAT Max\",\n",
        "   \"Fwd IAT Min\",\"Bwd IAT Total\",\"Bwd IAT Mean\",\"Bwd IAT Std\",\"Bwd IAT Max\",\"Bwd IAT Min\",\"Fwd PSH Flags\",\"Bwd PSH Flags\",\"Fwd URG Flags\",\"Bwd URG Flags\",\n",
        "   \"Fwd Header Length\",\"Bwd Header Length\",\"Fwd Packets/s\",\"Bwd Packets/s\",\"Min Packet Length\",\"Max Packet Length\",\"Packet Length Mean\",\"Packet Length Std\",\n",
        "   \"Packet Length Variance\",\"FIN Flag Count\",\"SYN Flag Count\",\"RST Flag Count\",\"PSH Flag Count\",\"ACK Flag Count\",\"URG Flag Count\",\"CWE Flag Count\",\n",
        "   \"ECE Flag Count\",\"Down/Up Ratio\",\"Average Packet Size\",\"Avg Fwd Segment Size\",\"Avg Bwd Segment Size\",\"Fwd Avg Bytes/Bulk\",\n",
        "   \"Fwd Avg Packets/Bulk\",\"Fwd Avg Bulk Rate\",\"Bwd Avg Bytes/Bulk\",\"Bwd Avg Packets/Bulk\",\"Bwd Avg Bulk Rate\",\"Subflow Fwd Packets\",\"Subflow Fwd Bytes\",\n",
        "   \"Subflow Bwd Packets\",\"Subflow Bwd Bytes\",\"Init_Win_bytes_forward\",\"Init_Win_bytes_backward\",\"act_data_pkt_fwd\",\n",
        "   \"min_seg_size_forward\",\"Active Mean\",\"Active Std\",\"Active Max\",\"Active Min\",\"Idle Mean\",\"Idle Std\",\"Idle Max\",\"Idle Min\",\"Label\",\"External IP\"]\n",
        "main_labels=( \",\".join( i for i in main_labels ) )"
      ]
    },
    {
      "cell_type": "code",
      "source": [
        "# Attack types\n",
        "attacks=[\"BENIGN\", \"Bot\", \"DDoS\", \"DoS GoldenEye\", \"DoS Hulk\", \"DoS Slowhttptest\", \"DoS slowloris\", \"FTP-Patator\", \"Heartbleed\", \"Infiltration\", \"PortScan\", \"SSH-Patator\", \"Web Attack – Brute Force\", \"Web Attack – Sql Injection\", \"Web Attack – XSS\"]\n",
        "\n",
        "# Create attacks folder\n",
        "folder(\"attacks\")"
      ],
      "metadata": {
        "colab": {
          "base_uri": "https://localhost:8080/"
        },
        "id": "E8C8U9N3qP6Z",
        "outputId": "59f1d19a-1cf3-44c2-919b-c1dfce76b8f5"
      },
      "execution_count": 7,
      "outputs": [
        {
          "output_type": "stream",
          "name": "stdout",
          "text": [
            "Folder created: /content/drive/MyDrive/Intrusion Detection System/attacks\n"
          ]
        }
      ]
    },
    {
      "cell_type": "code",
      "execution_count": 8,
      "metadata": {
        "id": "kmEE4qboPjxw"
      },
      "outputs": [],
      "source": [
        "benign=2359289\n",
        "\n",
        "dict_attack={\n",
        "\"Bot\":1966,\n",
        "\"DDoS\":41835,\n",
        "\"DoS GoldenEye\":10293,\n",
        "\"DoS Hulk\":231073,\n",
        "\"DoS Slowhttptest\":5499,\n",
        "\"DoS slowloris\":5796,\n",
        "\"FTP-Patator\":7938,\n",
        "\"Heartbleed\":11,\n",
        "\"Infiltration\":36,\n",
        "\"PortScan\":158930,\n",
        "\"SSH-Patator\":5897,\n",
        "\"Web Attack - Brute Force\":1507,\n",
        "\"Web Attack - XSS\":652,\n",
        "\"Web Attack - Sql Injection\":21}"
      ]
    },
    {
      "cell_type": "code",
      "source": [
        "# in this section, a file is opened for each attack type and is recorded at a random benign flow.\n",
        "for attack in dict_attack:\n",
        "    a, b = 0, 0\n",
        "    attack_file_path = os.path.join(base_path, \"attacks\", f\"{attack}.csv\")\n",
        "\n",
        "    with open(attack_file_path, \"w\") as ths:\n",
        "        ths.write(main_labels + \"\\n\")\n",
        "\n",
        "        benign_num = int(benign / (dict_attack[attack] * (7 / 3)))\n",
        "\n",
        "        all_data_path = os.path.join(base_path, \"all_data.csv\")\n",
        "        with open(all_data_path, \"r\") as file:\n",
        "            while True:\n",
        "                try:\n",
        "                    line = file.readline().strip()\n",
        "                    if not line:\n",
        "                        break\n",
        "\n",
        "                    k = line.split(\",\")\n",
        "\n",
        "                    if k[83] == \"BENIGN\":\n",
        "                        rnd = random.randint(1, benign_num)\n",
        "                        if rnd == 1:\n",
        "                            ths.write(line + \"\\n\")\n",
        "                            b += 1\n",
        "                    elif k[83] == attack:\n",
        "                        ths.write(line + \"\\n\")\n",
        "                        a += 1\n",
        "                except Exception as e:\n",
        "                    print(f\"Error processing {attack}: {e}\")\n",
        "                    break\n",
        "\n",
        "    print(f\"{attack} file completed\\n Attack: {a}\\n Benign: {b}\\n\\n\")\n",
        "\n"
      ],
      "metadata": {
        "colab": {
          "base_uri": "https://localhost:8080/"
        },
        "id": "qR9Ba_yZqYpq",
        "outputId": "10a4f6dc-f155-4165-d069-664c9e7d8ad8"
      },
      "execution_count": 9,
      "outputs": [
        {
          "output_type": "stream",
          "name": "stdout",
          "text": [
            "Bot file completed\n",
            " Attack: 1966\n",
            " Benign: 4643\n",
            "\n",
            "\n",
            "DDoS file completed\n",
            " Attack: 41835\n",
            " Benign: 98313\n",
            "\n",
            "\n",
            "DoS GoldenEye file completed\n",
            " Attack: 10293\n",
            " Benign: 24065\n",
            "\n",
            "\n",
            "DoS Hulk file completed\n",
            " Attack: 231073\n",
            " Benign: 589767\n",
            "\n",
            "\n",
            "DoS Slowhttptest file completed\n",
            " Attack: 5499\n",
            " Benign: 13042\n",
            "\n",
            "\n",
            "DoS slowloris file completed\n",
            " Attack: 5796\n",
            " Benign: 13401\n",
            "\n",
            "\n",
            "FTP-Patator file completed\n",
            " Attack: 7938\n",
            " Benign: 18569\n",
            "\n",
            "\n",
            "Heartbleed file completed\n",
            " Attack: 11\n",
            " Benign: 27\n",
            "\n",
            "\n",
            "Infiltration file completed\n",
            " Attack: 36\n",
            " Benign: 80\n",
            "\n",
            "\n",
            "PortScan file completed\n",
            " Attack: 158930\n",
            " Benign: 393197\n",
            "\n",
            "\n",
            "SSH-Patator file completed\n",
            " Attack: 5897\n",
            " Benign: 13794\n",
            "\n",
            "\n",
            "Web Attack - Brute Force file completed\n",
            " Attack: 1507\n",
            " Benign: 3543\n",
            "\n",
            "\n",
            "Web Attack - XSS file completed\n",
            " Attack: 652\n",
            " Benign: 1548\n",
            "\n",
            "\n",
            "Web Attack - Sql Injection file completed\n",
            " Attack: 21\n",
            " Benign: 46\n",
            "\n",
            "\n"
          ]
        }
      ]
    },
    {
      "cell_type": "code",
      "source": [
        "#All web attack files are merged into a single file.\n",
        "web_attacks = [\"Web Attack - Brute Force\", \"Web Attack - XSS\", \"Web Attack - Sql Injection\"]\n",
        "web_attack_file = os.path.join(base_path, \"attacks\", \"Web Attack.csv\")\n",
        "\n",
        "flag = True\n",
        "for attack in web_attacks:\n",
        "    attack_file_path = os.path.join(base_path, \"attacks\", f\"{attack}.csv\")\n",
        "\n",
        "    if os.path.exists(attack_file_path):\n",
        "        df = pd.read_csv(attack_file_path)\n",
        "\n",
        "        if flag:\n",
        "            df.to_csv(web_attack_file, index=False)\n",
        "            flag = False\n",
        "        else:\n",
        "            df.to_csv(web_attack_file, index=False, header=False, mode=\"a\")\n",
        "\n",
        "        os.remove(attack_file_path)  # Delete individual web attack files"
      ],
      "metadata": {
        "id": "ArI5Ph8xqcfl"
      },
      "execution_count": 10,
      "outputs": []
    },
    {
      "cell_type": "code",
      "source": [
        "print(f\"Operation completed in {time.time() - seconds} seconds\")"
      ],
      "metadata": {
        "colab": {
          "base_uri": "https://localhost:8080/"
        },
        "id": "3TMRwo4HqisC",
        "outputId": "31ad8f1a-8371-4deb-ec03-e36e6a92a1f5"
      },
      "execution_count": 11,
      "outputs": [
        {
          "output_type": "stream",
          "name": "stdout",
          "text": [
            "Operation completed in 285.55239152908325 seconds\n"
          ]
        }
      ]
    }
  ],
  "metadata": {
    "kernelspec": {
      "display_name": "Python 3",
      "language": "python",
      "name": "python3"
    },
    "language_info": {
      "codemirror_mode": {
        "name": "ipython",
        "version": 3
      },
      "file_extension": ".py",
      "mimetype": "text/x-python",
      "name": "python",
      "nbconvert_exporter": "python",
      "pygments_lexer": "ipython3",
      "version": "3.6.5"
    },
    "colab": {
      "provenance": []
    }
  },
  "nbformat": 4,
  "nbformat_minor": 0
}